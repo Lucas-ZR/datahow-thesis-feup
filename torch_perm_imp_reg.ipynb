{
 "cells": [
  {
   "cell_type": "code",
   "execution_count": 463,
   "metadata": {},
   "outputs": [],
   "source": [
    "#imports\n",
    "import pandas as pd\n",
    "import matplotlib.pyplot as plt\n",
    "import numpy as np\n",
    "import seaborn as sns\n",
    "\n",
    "from sklearn.model_selection import KFold\n",
    "from sklearn.preprocessing import StandardScaler\n",
    "from sklearn.inspection import permutation_importance\n",
    "from sklearn.model_selection import train_test_split\n",
    "\n",
    "\n",
    "import torch\n",
    "import torch.nn as nn\n",
    "import torch.optim as optim\n",
    "from torch.utils.data import DataLoader, TensorDataset\n",
    "torch.manual_seed(4000)"
   ]
  },
  {
   "cell_type": "markdown",
   "metadata": {},
   "source": [
    "### data preparation"
   ]
  },
  {
   "cell_type": "code",
   "execution_count": 67,
   "metadata": {},
   "outputs": [],
   "source": [
    "#read data\n",
    "X=pd.read_csv('.\\\\alternative_data_set\\\\X_diesel.csv',header=None)\n",
    "Y=pd.read_csv('.\\\\alternative_data_set\\\\Y3_diesel.csv',header=None)"
   ]
  },
  {
   "cell_type": "code",
   "execution_count": 68,
   "metadata": {},
   "outputs": [],
   "source": [
    "#remove missing values\n",
    "X['target_variable']=Y[1]\n",
    "X=X.dropna()\n",
    "X=X.reset_index(drop=True)\n",
    "Y=X.iloc[:,401]\n",
    "X=X.iloc[:,:401]"
   ]
  },
  {
   "cell_type": "code",
   "execution_count": 69,
   "metadata": {},
   "outputs": [],
   "source": [
    "#data split and normalisation\n",
    "x_train,x_test,y_train,y_test=train_test_split(X,Y,test_size=0.2,random_state=42)\n",
    "\n",
    "#train 0.8\n",
    "#test 0.2\n",
    "\n",
    "#norm\n",
    "scaler_x = StandardScaler()\n",
    "scaler_x.fit(x_train)\n",
    "x_train=scaler_x.transform(x_train)\n",
    "x_test=scaler_x.transform(x_test)\n",
    "\n",
    "scaler_y=StandardScaler()\n",
    "scaler_y.fit(y_train.values.reshape(-1,1))\n",
    "y_train=scaler_y.transform(y_train.values.reshape(-1,1))\n",
    "y_test=scaler_y.transform(y_test.values.reshape(-1,1))"
   ]
  },
  {
   "cell_type": "code",
   "execution_count": 70,
   "metadata": {},
   "outputs": [],
   "source": [
    "x_train=pd.DataFrame(x_train)\n",
    "y_train=pd.Series(y_train.ravel())\n",
    "\n",
    "x_test=pd.DataFrame(x_test)\n",
    "y_test=pd.Series(y_test.ravel())"
   ]
  },
  {
   "cell_type": "markdown",
   "metadata": {},
   "source": [
    "### model class and train|evaluate functions"
   ]
  },
  {
   "cell_type": "code",
   "execution_count": 283,
   "metadata": {},
   "outputs": [],
   "source": [
    "#convert, pandas to loader\n",
    "def make_loader(X,y,batch):\n",
    "    x_tensor=torch.tensor(X.values, dtype=torch.float32)\n",
    "    y_tensor=torch.tensor(y.values, dtype=torch.float32)\n",
    "    set_object=TensorDataset(x_tensor,y_tensor)\n",
    "    loader_object=DataLoader(dataset=set_object,batch_size=batch)\n",
    "    return loader_object"
   ]
  },
  {
   "cell_type": "code",
   "execution_count": 284,
   "metadata": {},
   "outputs": [],
   "source": [
    "#NN class\n",
    "class NeuralNetwork(nn.Module):\n",
    "    def __init__(self,input_size):\n",
    "        super(NeuralNetwork,self).__init__()\n",
    "        \n",
    "        self.linear_tanh_stack=nn.Sequential(\n",
    "            nn.Linear(input_size,4),\n",
    "            nn.Tanh(),\n",
    "            nn.Linear(4,4),\n",
    "            nn.Tanh(),\n",
    "            nn.Linear(4,1)\n",
    "        )\n",
    "        \n",
    "    def forward(self,x):\n",
    "        forward_pass=self.linear_tanh_stack(x)\n",
    "        return forward_pass"
   ]
  },
  {
   "cell_type": "code",
   "execution_count": 285,
   "metadata": {},
   "outputs": [],
   "source": [
    "#evaluate once\n",
    "def evaluate(Loader, model, loss_fn):\n",
    "    model.eval()\n",
    "    loss_sum=0\n",
    "    with torch.no_grad():\n",
    "        for batch, (X,y) in enumerate(Loader):\n",
    "            pred=model(X)\n",
    "            loss=loss_fn(pred,y.unsqueeze(1))\n",
    "            loss_sum+=loss.item()\n",
    "            \n",
    "    loss_sum/=len(Loader)\n",
    "    \n",
    "    return loss_sum"
   ]
  },
  {
   "cell_type": "code",
   "execution_count": 286,
   "metadata": {},
   "outputs": [],
   "source": [
    "#train and store all errors =)\n",
    "def train(TrainLoader, TestLoader, model, loss_fn, optimizer,epochs):\n",
    "    train_loss_epochs=[]\n",
    "    test_loss_epochs=[]\n",
    "    \n",
    "    for epoch in range(epochs):\n",
    "        model.train() \n",
    "        #train for every example in the dataloader\n",
    "        for X_train,y_train in TrainLoader:\n",
    "            \n",
    "            pred_train=model(X_train)\n",
    "            loss_train=loss_fn(pred_train,y_train.unsqueeze(1))\n",
    "            \n",
    "            optimizer.zero_grad()\n",
    "            loss_train.backward()\n",
    "            optimizer.step()\n",
    "    \n",
    "        loss_train_curr_epoch=evaluate(TrainLoader,model,loss_fn)\n",
    "        train_loss_epochs.append(loss_train_curr_epoch)\n",
    "       \n",
    "        loss_test_curr_epoch=evaluate(TestLoader,model,loss_fn)\n",
    "        test_loss_epochs.append(loss_test_curr_epoch)\n",
    "        \n",
    "    return model, train_loss_epochs, test_loss_epochs"
   ]
  },
  {
   "cell_type": "code",
   "execution_count": null,
   "metadata": {},
   "outputs": [],
   "source": []
  },
  {
   "cell_type": "markdown",
   "metadata": {},
   "source": [
    "### Loss plot"
   ]
  },
  {
   "cell_type": "code",
   "execution_count": 468,
   "metadata": {},
   "outputs": [],
   "source": [
    "torch.manual_seed(4000)\n",
    "train_loader=make_loader(X=x_train,y=y_train,batch=32)\n",
    "test_loader=make_loader(X=x_test,y=y_test,batch=32)\n",
    "\n",
    "model=NeuralNetwork(input_size=401)\n",
    "\n",
    "loss_fn=nn.MSELoss()\n",
    "optimizer=optim.Adam(model.parameters())"
   ]
  },
  {
   "cell_type": "code",
   "execution_count": 469,
   "metadata": {},
   "outputs": [],
   "source": [
    "epochs=254\n",
    "model, train_loss, test_loss=train(TrainLoader=train_loader,\n",
    "                                   TestLoader=test_loader, \n",
    "                                   model=model, \n",
    "                                   loss_fn=loss_fn, \n",
    "                                   optimizer=optimizer,\n",
    "                                   epochs=epochs)"
   ]
  },
  {
   "cell_type": "code",
   "execution_count": 470,
   "metadata": {},
   "outputs": [
    {
     "data": {
      "text/plain": [
       "[<matplotlib.lines.Line2D at 0x26ac556d250>]"
      ]
     },
     "execution_count": 470,
     "metadata": {},
     "output_type": "execute_result"
    },
    {
     "data": {
      "image/png": "[encoded data removed]",
      "text/plain": [
       "<Figure size 640x480 with 1 Axes>"
      ]
     },
     "metadata": {},
     "output_type": "display_data"
    }
   ],
   "source": [
    "plt.plot(np.arange(epochs),train_loss)\n",
    "plt.plot(np.arange(epochs),test_loss)\n",
    "#plt.xlim(200,260)\n",
    "#plt.ylim(0.02,0.2)"
   ]
  },
  {
   "cell_type": "markdown",
   "metadata": {},
   "source": [
    "### permutation importance"
   ]
  },
  {
   "cell_type": "code",
   "execution_count": 461,
   "metadata": {},
   "outputs": [],
   "source": [
    "#permutation importance from scikitlearn internally uses the predict function and checks for the presence\n",
    "#of the fit function. if i feed my pytorch model inside a wrapper it works\n",
    "class PyTorchRegressorWrapper:\n",
    "    def __init__(self, model):\n",
    "        model = model\n",
    "\n",
    "    def fit(self, X, y):\n",
    "        #this function only needs to exhist to fulfill API contract with scikitlearn\n",
    "        pass\n",
    "\n",
    "    def predict(self, X):\n",
    "        model.eval()\n",
    "        with torch.no_grad():\n",
    "            #convert to numpy as needed\n",
    "            if isinstance(X, pd.DataFrame):\n",
    "                X = X.to_numpy()\n",
    "\n",
    "            X_tensor = torch.tensor(X, dtype=torch.float32)\n",
    "            predictions = model(X_tensor).numpy()\n",
    "        return predictions"
   ]
  },
  {
   "cell_type": "code",
   "execution_count": 456,
   "metadata": {},
   "outputs": [],
   "source": [
    "# pass model trough wrapper\n",
    "model_wrapper = PyTorchRegressorWrapper(model=model)\n",
    "\n",
    "# permutation importance with the wrapper instance\n",
    "results = permutation_importance(model_wrapper,\n",
    "                                 x_train,\n",
    "                                 y_train,\n",
    "                                 n_repeats=30,\n",
    "                                 random_state=42,\n",
    "                                 n_jobs=4,\n",
    "                                 scoring='neg_mean_squared_error')"
   ]
  },
  {
   "cell_type": "code",
   "execution_count": 457,
   "metadata": {},
   "outputs": [],
   "source": [
    "def perm_imp_get_topn_indexes(perm_imp_output,top_n):\n",
    "    importance=perm_imp_output.importances_mean\n",
    "    \n",
    "    importance=pd.DataFrame(importance)\n",
    "    importance_sorted=importance.sort_values(by=0, ascending=False)\n",
    "    \n",
    "    bestn=importance_sorted.head(top_n)\n",
    "    values=bestn.index\n",
    "    \n",
    "    return values"
   ]
  },
  {
   "cell_type": "code",
   "execution_count": null,
   "metadata": {},
   "outputs": [],
   "source": [
    "#function do achieve permutation importance with cross validation\n",
    "\n",
    "for fold, (train_fold, val_fold) in enumerate()\n"
   ]
  },
  {
   "cell_type": "code",
   "execution_count": 458,
   "metadata": {},
   "outputs": [],
   "source": [
    "values=perm_imp_get_topn_indexes(results,20)"
   ]
  },
  {
   "cell_type": "code",
   "execution_count": null,
   "metadata": {},
   "outputs": [],
   "source": []
  }
 ],
 "metadata": {
  "kernelspec": {
   "display_name": "Python 3",
   "language": "python",
   "name": "python3"
  },
  "language_info": {
   "codemirror_mode": {
    "name": "ipython",
    "version": 3
   },
   "file_extension": ".py",
   "mimetype": "text/x-python",
   "name": "python",
   "nbconvert_exporter": "python",
   "pygments_lexer": "ipython3",
   "version": "3.12.2"
  }
 },
 "nbformat": 4,
 "nbformat_minor": 2
}
