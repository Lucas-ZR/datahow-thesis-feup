{
 "cells": [
  {
   "cell_type": "code",
   "execution_count": 3,
   "metadata": {},
   "outputs": [],
   "source": [
    "#imports\n",
    "import os\n",
    "import scienceplots\n",
    "import pandas as pd\n",
    "import matplotlib.pyplot as plt\n",
    "from matplotlib.colors import ListedColormap\n",
    "import numpy as np\n",
    "import seaborn as sns\n",
    "from tqdm import tqdm\n",
    "\n",
    "from mrmr import mrmr_regression\n",
    "\n",
    "from sklearn.svm import SVR\n",
    "from sklearn.model_selection import KFold\n",
    "from sklearn.preprocessing import StandardScaler\n",
    "from sklearn.inspection import permutation_importance\n",
    "from sklearn.model_selection import train_test_split\n",
    "from sklearn.cross_decomposition import PLSRegression\n",
    "from sklearn.metrics import mean_squared_error\n",
    "from sklearn.neural_network import MLPRegressor\n",
    "from sklearn.feature_selection import mutual_info_regression\n",
    "from sklearn.feature_selection import f_regression\n",
    "from sklearn.metrics import r2_score\n",
    "from sklearn.model_selection import GridSearchCV\n",
    "from sklearn.model_selection import cross_val_score\n",
    "\n",
    "import torch\n",
    "import torch.nn as nn\n",
    "import torch.optim as optim\n",
    "from torch.utils.data import DataLoader, TensorDataset, Subset\n",
    "torch.manual_seed(4000)\n",
    "np.random.seed(42)"
   ]
  },
  {
   "cell_type": "markdown",
   "metadata": {},
   "source": [
    "#### Data"
   ]
  },
  {
   "cell_type": "code",
   "execution_count": 4,
   "metadata": {},
   "outputs": [],
   "source": [
    "#read data\n",
    "X=pd.read_csv('.\\\\alternative_data_set\\\\X_diesel.csv',header=None)\n",
    "Y=pd.read_csv('.\\\\alternative_data_set\\\\Y3_diesel.csv',header=None)"
   ]
  },
  {
   "cell_type": "code",
   "execution_count": 5,
   "metadata": {},
   "outputs": [],
   "source": [
    "#remove missing values\n",
    "X['target_variable']=Y[1]\n",
    "X=X.dropna()\n",
    "X=X.reset_index(drop=True)\n",
    "Y=X.iloc[:,401]\n",
    "X=X.iloc[:,:401]"
   ]
  },
  {
   "cell_type": "code",
   "execution_count": 6,
   "metadata": {},
   "outputs": [],
   "source": [
    "#data split and normalisation\n",
    "x_train,x_test,y_train,y_test=train_test_split(X,Y,test_size=0.2,random_state=42)"
   ]
  },
  {
   "cell_type": "code",
   "execution_count": 7,
   "metadata": {},
   "outputs": [],
   "source": [
    "x_train=pd.DataFrame(x_train)\n",
    "y_train=pd.Series(y_train.ravel())\n",
    "\n",
    "x_test=pd.DataFrame(x_test)\n",
    "y_test=pd.Series(y_test.ravel())"
   ]
  },
  {
   "cell_type": "markdown",
   "metadata": {},
   "source": [
    "### NN functions"
   ]
  },
  {
   "cell_type": "code",
   "execution_count": null,
   "metadata": {},
   "outputs": [],
   "source": [
    "#convert, pandas to loader\n",
    "def make_loader(X,y,batch):\n",
    "    if not isinstance(X, pd.DataFrame):\n",
    "        try:\n",
    "            X = pd.DataFrame(X)\n",
    "        except ValueError:\n",
    "            print(\"X cannot be converted to a pandas DataFrame.\")\n",
    "    \n",
    "    if not isinstance(y, pd.Series):\n",
    "        try:\n",
    "            y = pd.Series(y)\n",
    "        except ValueError:\n",
    "            print(\"X cannot be converted to a pandas Series.\")        \n",
    "            \n",
    "    x_tensor=torch.tensor(X.values, dtype=torch.float32)\n",
    "    y_tensor=torch.tensor(y.values, dtype=torch.float32)\n",
    "    set_object=TensorDataset(x_tensor,y_tensor)\n",
    "    loader_object=DataLoader(dataset=set_object,batch_size=batch)\n",
    "    return loader_object"
   ]
  },
  {
   "cell_type": "code",
   "execution_count": null,
   "metadata": {},
   "outputs": [],
   "source": [
    "out_channels_1=8\n",
    "kernel_1=5\n",
    "stride_1=3\n",
    "        \n",
    "out_channels_2=4\n",
    "kernel_2=2\n",
    "stride_2=3\n",
    "        \n",
    "out_channels_3=4\n",
    "kernel_3=3\n",
    "stride_3=1"
   ]
  },
  {
   "cell_type": "code",
   "execution_count": null,
   "metadata": {},
   "outputs": [],
   "source": [
    "#NN class\n",
    "class ConvBlock(nn.Module):\n",
    "    def __init__(self,in_channels_1, out_channels_1, kernel_1, stride_1):\n",
    "        super(ConvBlock,self).__init__()\n",
    "        \n",
    "        self.conv1=nn.Conv1d(1,out_channels_1,kernel_size=kernel_1,stride=stride_1)\n",
    "        \n",
    "    def forward(self,x):\n",
    "        x=self.conv1(x)\n",
    "        return x"
   ]
  },
  {
   "cell_type": "code",
   "execution_count": null,
   "metadata": {},
   "outputs": [],
   "source": [
    "#NN class\n",
    "class InseptionBlock(nn.Module):\n",
    "    def __init__(self, out_channels_1, kernel_1, stride_1, out_channels_2, kernel_2, stride_2, out_channels_3, kernel_3,stride_3):\n",
    "        super(InseptionBlock,self).__init__()\n",
    "        \n",
    "        #branch1\n",
    "        self.Branch1= ConvBlock(in_channels_1=1,out_chan)\n",
    "        \n",
    "\n",
    "    \n",
    "        \n",
    "    def forward(self,x):\n",
    "        x=self.conv1(x)\n",
    "        return x"
   ]
  }
 ],
 "metadata": {
  "kernelspec": {
   "display_name": "Python 3",
   "language": "python",
   "name": "python3"
  },
  "language_info": {
   "codemirror_mode": {
    "name": "ipython",
    "version": 3
   },
   "file_extension": ".py",
   "mimetype": "text/x-python",
   "name": "python",
   "nbconvert_exporter": "python",
   "pygments_lexer": "ipython3",
   "version": "3.12.2"
  }
 },
 "nbformat": 4,
 "nbformat_minor": 2
}
